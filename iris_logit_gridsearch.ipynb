{
  "nbformat": 4,
  "nbformat_minor": 0,
  "metadata": {
    "colab": {
      "name": "iris_logit_gridsearch",
      "private_outputs": true,
      "provenance": [],
      "authorship_tag": "ABX9TyP/qyJl/tg/w6KfIG4T3J2z",
      "include_colab_link": true
    },
    "kernelspec": {
      "name": "python3",
      "display_name": "Python 3"
    },
    "language_info": {
      "name": "python"
    }
  },
  "cells": [
    {
      "cell_type": "markdown",
      "metadata": {
        "id": "view-in-github",
        "colab_type": "text"
      },
      "source": [
        "<a href=\"https://colab.research.google.com/github/dmlcks123/3_3_Other_Considerations_in_the_Regression_Model/blob/main/iris_logit_gridsearch.ipynb\" target=\"_parent\"><img src=\"https://colab.research.google.com/assets/colab-badge.svg\" alt=\"Open In Colab\"/></a>"
      ]
    },
    {
      "cell_type": "code",
      "metadata": {
        "id": "zDp2hLbNYvi0"
      },
      "source": [
        "import numpy as np\n",
        "import matplotlib.pyplot as plt"
      ],
      "execution_count": null,
      "outputs": []
    },
    {
      "cell_type": "code",
      "metadata": {
        "id": "M5CXRecRzbg8"
      },
      "source": [
        "from sklearn.datasets import load_iris\n",
        "\n",
        "iris = load_iris()\n",
        "print(iris.keys())\n",
        "print(iris.DESCR)\n",
        "\n",
        "# 3항 로짓모형(virginica, versicolor, setosa)"
      ],
      "execution_count": null,
      "outputs": []
    },
    {
      "cell_type": "code",
      "metadata": {
        "id": "oMCI77yn0NjG"
      },
      "source": [
        "import pandas as pd\n",
        "\n",
        "iris_df = pd.DataFrame(iris.data, columns=iris.feature_names) # iris pandasdataframe에 저장 \n",
        "species = pd.Series(iris.target, dtype = 'category') #범주형 변수로 지정\n",
        "species = species.cat.rename_categories(iris.target_names)\n",
        "iris_df['species'] = species"
      ],
      "execution_count": null,
      "outputs": []
    },
    {
      "cell_type": "code",
      "metadata": {
        "id": "qEyQNtKA1P_7"
      },
      "source": [
        "iris_df.describe()"
      ],
      "execution_count": null,
      "outputs": []
    },
    {
      "cell_type": "code",
      "metadata": {
        "id": "p6clR16A1bXp"
      },
      "source": [
        "#box-plot\n",
        "iris_df.boxplot();"
      ],
      "execution_count": null,
      "outputs": []
    },
    {
      "cell_type": "code",
      "metadata": {
        "id": "tuTHZ0Ca11JU"
      },
      "source": [
        "iris_df.plot();\n",
        "# 0~50, 50~100, 100이상 그룹으로 종을 구분할수 있겠다라는 input"
      ],
      "execution_count": null,
      "outputs": []
    },
    {
      "cell_type": "code",
      "metadata": {
        "id": "LuDHYIVY2Bdm"
      },
      "source": [
        "import seaborn as sns\n",
        "\n",
        "sns.pairplot(iris_df, hue = 'species')\n",
        "\n",
        "#setosa 구분은 잘되어있음"
      ],
      "execution_count": null,
      "outputs": []
    },
    {
      "cell_type": "code",
      "metadata": {
        "id": "j1G1odjS2SCS"
      },
      "source": [
        "#2 로지스틱 회귀분석을 통한 분류\n",
        "\n",
        "from sklearn.model_selection import train_test_split\n",
        "\n",
        "X_train, X_test, y_train, y_test = train_test_split(iris.data[:, ], iris.target, # 2열3열의 특징행렬만 사용하는 예제임\n",
        "                                                    test_size = 0.2, # test set 비율\n",
        "                                                    random_state = 1, # 시드값\n",
        "                                                    stratify = iris.target) # stratify는 계층적 데이터일때 넣어주는 옵션\n"
      ],
      "execution_count": null,
      "outputs": []
    },
    {
      "cell_type": "code",
      "metadata": {
        "id": "kNfp7Edx3UGH"
      },
      "source": [
        "from sklearn.linear_model import LogisticRegression\n",
        "model = LogisticRegression(solver = 'lbfgs', multi_class = 'auto', C = 100.0,\n",
        "                           random_state = 1) #multi class는 3개임, #C는 하이퍼파라미터\n",
        "model.fit(X_train, y_train)"
      ],
      "execution_count": null,
      "outputs": []
    },
    {
      "cell_type": "code",
      "metadata": {
        "id": "gtTqFXqC4M2T"
      },
      "source": [
        "print(\"학습 데이터 점수: {}\",format(model.score(X_train, y_train)))\n",
        "print(\"평가 데이터 점수: {}\",format(model.score(X_test, y_test)))"
      ],
      "execution_count": null,
      "outputs": []
    },
    {
      "cell_type": "code",
      "metadata": {
        "id": "dekW_a_E4hMJ"
      },
      "source": [
        "# 시각화\n",
        "import numpy as np\n",
        "X = np.vstack((X_train, X_test)) # vertical\n",
        "y = np.hstack((y_train, y_test)) # horizontal"
      ],
      "execution_count": null,
      "outputs": []
    },
    {
      "cell_type": "code",
      "metadata": {
        "id": "Ai2DZnjq4zC_"
      },
      "source": [
        "from matplotlib.colors import ListedColormap\n",
        "x1_min, x1_max = X[:, 0].min()-1, X[:, 0].max()+1\n",
        "x2_min, x2_max = X[:, 1].min()-1, X[:, 1].max()+1\n",
        "xx1, xx2 = np.meshgrid(np.arange(x1_min, x1_max, 0.02),\n",
        "                       np.arange(x2_min, x2_max, 0.02))\n",
        "Z = model.predict(np.array([xx1.ravel(), xx2.ravel()]).T)\n",
        "Z = Z.reshape(xx1.shape)\n",
        "\n",
        "species = ('Sectosa', 'Versicolour', 'Virginica')\n",
        "markers = ('^', 'v', 's')\n",
        "colors = ('blue', 'purple', 'red')\n",
        "cmap = ListedColormap(colors[:len(np.unique(y))])\n",
        "plt.contourf(xx1, xx2, Z, alpha = 0.3, cmap = cmap)\n",
        "plt.xlim(xx1.min(), xx1.max())\n",
        "plt.ylim(xx2.min(), xx2.max())\n",
        "\n",
        "for idx, cl in enumerate(np.unique(y)):\n",
        "  plt.scatter(x = X[y == cl, 0], y = X[y == cl, 1],\n",
        "              alpha = 0.8, c = colors[idx],\n",
        "              marker = markers[idx], label = species[cl],\n",
        "              edgecolor = 'b')\n",
        "\n",
        "# test-set\n",
        "X_comb_test, y_comb_test = X[range(105, 150), :], y[range(105, 150)]\n",
        "plt.scatter(X_comb_test[:, 0], X_comb_test[:, 1],\n",
        "            c = 'yellow', edgecolor = 'k', alpha = 0.2,\n",
        "            linewidth = 1, marker = 'o', s = 100, label = 'Test') \n",
        "plt.xlabel('Petal Length (cm)')\n",
        "plt.ylabel('Petal Width (cm)')\n",
        "plt.legend(loc = 'upper left')\n",
        "plt.tight_layout();                                     "
      ],
      "execution_count": null,
      "outputs": []
    },
    {
      "cell_type": "code",
      "metadata": {
        "id": "t-CLoVeD688N"
      },
      "source": [
        "import multiprocessing\n",
        "from sklearn.model_selection import GridSearchCV\n",
        "\n",
        "param_grid = [{'penalty': ['l1', 'l2'],\n",
        "               'C': [2.0, 2.2, 2.4, 2.6, 2.8]}]\n",
        "\n",
        "gs = GridSearchCV(estimator = LogisticRegression(), param_grid = param_grid,\n",
        "                  scoring = 'accuracy', cv = 10, n_jobs = multiprocessing.cpu_count())\n",
        "gs"
      ],
      "execution_count": null,
      "outputs": []
    },
    {
      "cell_type": "code",
      "metadata": {
        "id": "3oBJUklh-M3y"
      },
      "source": [
        "result = gs.fit(iris.data, iris.target)"
      ],
      "execution_count": null,
      "outputs": []
    },
    {
      "cell_type": "code",
      "metadata": {
        "id": "_nWzQS-6-rwv"
      },
      "source": [
        "print(gs.best_estimator_)\n",
        "print(\"최적 점수: {}\".format(gs.best_score_))\n",
        "print(\"최적 파라미터: {}\".format(gs.best_params_))\n",
        "pd.DataFrame(result.cv_results_)"
      ],
      "execution_count": null,
      "outputs": []
    },
    {
      "cell_type": "code",
      "metadata": {
        "id": "s1WnaTZR_ys6"
      },
      "source": [
        ""
      ],
      "execution_count": null,
      "outputs": []
    }
  ]
}