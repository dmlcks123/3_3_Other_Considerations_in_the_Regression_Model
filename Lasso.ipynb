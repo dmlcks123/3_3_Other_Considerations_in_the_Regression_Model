{
  "nbformat": 4,
  "nbformat_minor": 0,
  "metadata": {
    "colab": {
      "name": "Lasso.ipynb",
      "private_outputs": true,
      "provenance": [],
      "collapsed_sections": [],
      "authorship_tag": "ABX9TyNco/ZXlM8fa4mg+bQUeh//",
      "include_colab_link": true
    },
    "kernelspec": {
      "name": "python3",
      "display_name": "Python 3"
    },
    "language_info": {
      "name": "python"
    }
  },
  "cells": [
    {
      "cell_type": "markdown",
      "metadata": {
        "id": "view-in-github",
        "colab_type": "text"
      },
      "source": [
        "<a href=\"https://colab.research.google.com/github/dmlcks123/3_3_Other_Considerations_in_the_Regression_Model/blob/main/Lasso.ipynb\" target=\"_parent\"><img src=\"https://colab.research.google.com/assets/colab-badge.svg\" alt=\"Open In Colab\"/></a>"
      ]
    },
    {
      "cell_type": "markdown",
      "metadata": {
        "id": "FYqwuXdv4UiS"
      },
      "source": [
        "#Lasso"
      ]
    },
    {
      "cell_type": "markdown",
      "metadata": {
        "id": "2GZt1eT3HFok"
      },
      "source": [
        "0. OLS 추정 중 최적의 모델을 찾아가는 과정 --> 불편성과 분산의 절충 --> 검정오차을 가장 낮추는 모델 --> 모델 예측도 향상"
      ]
    },
    {
      "cell_type": "markdown",
      "metadata": {
        "id": "GUEKJLUe7QST"
      },
      "source": [
        "1. 설명변수가 추가되면 R_square가 올라감(RSS 증가), 설명변수가 늘어나는 것에 규제 필요 \n",
        "* 이전 방식 : adj_R_square --> 모델정확도 판단의 근거는 되지만 최적모델을 제시하지 못함"
      ]
    },
    {
      "cell_type": "markdown",
      "metadata": {
        "id": "sO2cqJkP8Ji3"
      },
      "source": [
        "2. 모델 적합시 설명변수가 늘어나는 것의 문제: 데이터 과적합(overfitting) 발생\n",
        "* 실제모델이 변수가 적은 모델이라면 더 큰 문제"
      ]
    },
    {
      "cell_type": "markdown",
      "metadata": {
        "id": "OXxWPv6E8X4Y"
      },
      "source": [
        "3. 데이터 과적합 : 훈련 MSE < 검정 MSE --> 훈련 MSE는 작지만 검정 MSE는 커짐 \n",
        "* 편향은 줄지만 분산이 커지는 문제\n",
        "* MSE(mean square error) = $\\frac{1}{n}\\sum_{i=1}^{n} (y_{i}-\\hat{f}(x))^2$ --> 예측오차를 줄여나가는 과정"
      ]
    },
    {
      "cell_type": "code",
      "metadata": {
        "id": "Onr4s88ZVh9V"
      },
      "source": [
        "from google.colab import drive\n",
        "drive.mount('/gdrive', force_remount = True)"
      ],
      "execution_count": null,
      "outputs": []
    },
    {
      "cell_type": "code",
      "metadata": {
        "id": "PBkvdsxbUXWV"
      },
      "source": [
        "from IPython.display import Image\n",
        "Image('/gdrive/My Drive/g3.png')"
      ],
      "execution_count": null,
      "outputs": []
    },
    {
      "cell_type": "markdown",
      "metadata": {
        "id": "4r9VvoW9NIYz"
      },
      "source": [
        "4. 훈련데이터에 대한 모델적합도를 조절하고 검정데이터에 대한 모델적합도를 개선시키는 방안이 필요\n",
        "* 모든 설명변수를 모델에 적합하는 것을 제한하기 위해 RSS 게산시 패널티 부여\n",
        "* min $\\beta$, $RSS + \\lambda \\sum_{j=1}^{p}\\left | \\beta _{j} \\right |$\n",
        "* $\\sum_{i=1}^{n}(y_{i} - \\beta_0 - \\sum_{j=1}^{P}\\beta_{j}x_{ij}) + \\lambda \\sum_{j=1}^{p}\\left | \\beta _{j} \\right |$"
      ]
    },
    {
      "cell_type": "markdown",
      "metadata": {
        "id": "UHB8EE0QUAGP"
      },
      "source": [
        "5. Ridge와 다른점\n",
        "* 실제모델이 2변수 모형일 때 검정MSE(Lasso) < 검정MSE(Ridge) --> Lasso 우세\n",
        "* 실제모델이 45개 변수 모형일 때 분산(Lasso) > 분산(Ridge) --> Ridge 우세\n",
        "* 람다가 커지면 규제항으로 인해 베타값이 0이 될수 있음"
      ]
    },
    {
      "cell_type": "code",
      "metadata": {
        "id": "-IQNlL1SWRlN"
      },
      "source": [
        "from IPython.display import Image\n",
        "Image('/gdrive/My Drive/g4.png')\n",
        "Image('/gdrive/My Drive/g5.png')"
      ],
      "execution_count": null,
      "outputs": []
    },
    {
      "cell_type": "markdown",
      "metadata": {
        "id": "YBd_dpN2WHjI"
      },
      "source": [
        "질문. 어떤 방식으로 규제항으로 인해 beta값이 0이 되는지 / 규제항은 어떻게 산출된것인지"
      ]
    },
    {
      "cell_type": "markdown",
      "metadata": {
        "id": "71RD74XGT4cJ"
      },
      "source": [
        "#실습"
      ]
    },
    {
      "cell_type": "code",
      "metadata": {
        "id": "1IPlQMClT87D"
      },
      "source": [
        "import warnings\n",
        "warnings.filterwarnings('always')\n",
        "warnings.filterwarnings('ignore') # 경고메시지 숨기기\n",
        "\n",
        "import numpy as np\n",
        "import pandas as pd\n",
        "from sklearn import datasets\n",
        "import matplotlib.pyplot as plt\n",
        "from sklearn.linear_model import Ridge, Lasso"
      ],
      "execution_count": null,
      "outputs": []
    },
    {
      "cell_type": "code",
      "metadata": {
        "id": "owbw8RXK6pCX"
      },
      "source": [
        "url = 'http://raw.githubusercontent.com/RAhyunki/dataset/main/Default.csv'\n",
        "Default = pd.read_csv(url)\n",
        "print(Default.shape)\n",
        "print(Default.head())"
      ],
      "execution_count": null,
      "outputs": []
    },
    {
      "cell_type": "code",
      "metadata": {
        "id": "LEdWb-__6-1V"
      },
      "source": [
        "diabetes = datasets.load_diabetes()\n",
        "X = diabetes.data\n",
        "y = diabetes.target\n",
        "print('Data View')\n",
        "display(pd.concat([pd.DataFrame(y, columns=['diabetes_value']), \n",
        "                   pd.DataFrame(X, columns = diabetes.feature_names)], axis = 1).head())"
      ],
      "execution_count": null,
      "outputs": []
    },
    {
      "cell_type": "code",
      "metadata": {
        "id": "f9JeSMF1V64E"
      },
      "source": [
        "alpha = 0.5\n",
        "\n",
        "#Ridge model\n",
        "fit = Ridge(alpha = alpha, fit_intercept = True, normalize = True,\n",
        "            random_state = 123).fit(X, y)\n",
        "pd.DataFrame(np.hstack([fit.intercept_, fit.coef_]), columns=['alpha = {}'.format(alpha)])\n"
      ],
      "execution_count": null,
      "outputs": []
    },
    {
      "cell_type": "code",
      "metadata": {
        "id": "VFP9WTwzX14Q"
      },
      "source": [
        "#Lasso model\n",
        "fit = Lasso(alpha = alpha, fit_intercept = True, normalize = True,\n",
        "            random_state = 123).fit(X, y)\n",
        "pd.DataFrame(np.hstack([fit.intercept_, fit.coef_]), columns=['alpha = {}'.format(alpha)])\n",
        "\n",
        "# 일부 변수의 계수값 0으로 조절"
      ],
      "execution_count": null,
      "outputs": []
    },
    {
      "cell_type": "code",
      "metadata": {
        "id": "1cWqA56yZCZ_"
      },
      "source": [
        "result_Ridge = pd.DataFrame()\n",
        "alpha_candidate = np.hstack([0, np.logspace(-2,1,4)])\n",
        "for alpha in alpha_candidate:\n",
        "  fit = Ridge(alpha = alpha, fit_intercept=True, normalize=True, random_state= 123).fit(X,y)\n",
        "  result_coef = pd.DataFrame(np.hstack([fit.intercept_, fit.coef_]), columns = ['alpha = {}'.format(alpha)])\n",
        "  result_Ridge = pd.concat([result_Ridge, result_coef], axis = 1)\n",
        "\n",
        "result_Lasso = pd.DataFrame()\n",
        "alpha_candidate = np.hstack([0, np.logspace(-2,1,4)])\n",
        "for alpha in alpha_candidate:\n",
        "  fit = Lasso(alpha = alpha, fit_intercept=True, normalize=True, random_state= 123).fit(X,y)\n",
        "  result_coef = pd.DataFrame(np.hstack([fit.intercept_, fit.coef_]), columns = ['alpha = {}'.format(alpha)])\n",
        "  result_Lasso = pd.concat([result_Lasso, result_coef], axis = 1)"
      ],
      "execution_count": null,
      "outputs": []
    },
    {
      "cell_type": "code",
      "metadata": {
        "id": "rFlFrjABYW6j"
      },
      "source": [
        "plt.figure(figsize=(20,20))\n",
        "result_Ridge.T.plot(legend = False, ax = plt.subplot(211))\n",
        "plt.title('Ridge')\n",
        "plt.xticks(np.arange(len(result_Ridge.columns)), [i for i in result_Ridge.columns])\n",
        "plt.ylabel('coefficients')\n",
        "plt.grid()\n",
        "\n",
        "plt.figure(figsize=(20,20))\n",
        "result_Lasso.T.plot(legend = False, ax = plt.subplot(211))\n",
        "plt.title('Lasso')\n",
        "plt.xticks(np.arange(len(result_Lasso.columns)), [i for i in result_Lasso.columns])\n",
        "plt.ylabel('coefficients')\n",
        "plt.grid()"
      ],
      "execution_count": null,
      "outputs": []
    },
    {
      "cell_type": "code",
      "metadata": {
        "id": "gxfpgWXsaanz"
      },
      "source": [
        ""
      ],
      "execution_count": null,
      "outputs": []
    }
  ]
}